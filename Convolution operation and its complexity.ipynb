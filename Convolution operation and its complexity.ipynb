{
 "cells": [
  {
   "cell_type": "markdown",
   "metadata": {},
   "source": [
    "<h3>Convolutional Operation and its complexity</h3>"
   ]
  },
  {
   "cell_type": "markdown",
   "metadata": {},
   "source": [
    "In this notebook we shall look at how to use numpy to build a simple convolve function with no padding and a stride of 1. We shall also look at the computational complexity of convolution.\n",
    "\n",
    "Given an image of input shape (n, n) the shape of the output convolved image is given by:\n",
    "                                \n",
    "                                ([(n+2p-f)/s]+1, ...)\n",
    "                                \n",
    "Note that for the sake of simplicity p= 0 and s= 1, here.       "
   ]
  },
  {
   "cell_type": "markdown",
   "metadata": {},
   "source": [
    "Note: The term convolution is used out of convinence. The textbook term is cross-correlation."
   ]
  },
  {
   "cell_type": "code",
   "execution_count": 125,
   "metadata": {},
   "outputs": [],
   "source": [
    "import numpy as np\n",
    "from numpy.lib.stride_tricks import as_strided as strided"
   ]
  },
  {
   "cell_type": "code",
   "execution_count": 126,
   "metadata": {},
   "outputs": [],
   "source": [
    "### Strided\n",
    "def convolve(x, fltr):\n",
    "    # Ip and Op shapes\n",
    "    ipshp0, ipshp1= x.shape\n",
    "    opshp0, opshp1= x.shape[0]-fltr.shape[0]+1, x.shape[1]-fltr.shape[1]+1\n",
    "\n",
    "    # Shape of the split of input array in 3D\n",
    "    s1, s23= x.shape[0]*x.shape[1]-(fltr.shape[0]-1)*x.shape[0]-fltr.shape[0]+1, fltr.shape[0]\n",
    "\n",
    "    # Stride lengths based on memory\n",
    "    xStr1, xStr2= x.strides[1], x.strides[1]*x.shape[0]\n",
    "\n",
    "    # Extracting smaller arrays out of the bigger one to convolve over\n",
    "    x_str= strided(x, shape= (s1, s23, s23), strides= (xStr1, xStr2, xStr1))\n",
    "\n",
    "    # Indices for strides\n",
    "    l= np.arange(0, x.shape[0]-fltr.shape[0]+1)\n",
    "    ind= (np.repeat(l.reshape(1, l.shape[0]), opshp0, axis= 0)+np.array(l*ipshp0).reshape(opshp0, 1)).ravel()\n",
    "\n",
    "    # Extracting the exact matrices\n",
    "    x_str= x_str[ind]\n",
    "\n",
    "    # Convolution\n",
    "    conv= x_str*fltr\n",
    "    convolved= conv.sum(1).sum(1).reshape(opshp0, opshp1)\n",
    "\n",
    "    return convolved"
   ]
  },
  {
   "cell_type": "code",
   "execution_count": 134,
   "metadata": {},
   "outputs": [],
   "source": [
    "# Testing on three filters of size (3, 3), (5, 5), (7, 7)\n",
    "fltr3= np.array([[1, 0, -1], [1, 0, -1], [1, 0, -1]])\n",
    "fltr5= np.array([[1, 0, -1, 0, 1], [1, 0, -1, 0, 1], [1, 0, -1, 0, 1], [1, 0, -1, 0, 1], [1, 0, -1, 0, 1]])\n",
    "fltr7= np.array([[1, 0, -1, 0, 1, 0, -1], [1, 0, -1, 0, 1, 0, -1], [1, 0, -1, 0, 1, 0, -1], [1, 0, -1, 0, 1, 0, -1], [1, 0, -1, 0, 1, 0, -1], [1, 0, -1, 0, 1, 0, -1], [1, 0, -1, 0, 1, 0, -1]])\n",
    "\n",
    "# Finding convolution complexity"
   ]
  },
  {
   "cell_type": "code",
   "execution_count": 133,
   "metadata": {
    "scrolled": true
   },
   "outputs": [
    {
     "name": "stdout",
     "output_type": "stream",
     "text": [
      "47.4 µs ± 1e+03 ns per loop (mean ± std. dev. of 7 runs, 10000 loops each)\n",
      "114 µs ± 11.4 µs per loop (mean ± std. dev. of 7 runs, 10000 loops each)\n",
      "204 µs ± 9.16 µs per loop (mean ± std. dev. of 7 runs, 1000 loops each)\n",
      "337 µs ± 8.65 µs per loop (mean ± std. dev. of 7 runs, 1000 loops each)\n",
      "514 µs ± 5.84 µs per loop (mean ± std. dev. of 7 runs, 1000 loops each)\n",
      "744 µs ± 22.1 µs per loop (mean ± std. dev. of 7 runs, 1000 loops each)\n",
      "1.03 ms ± 45 µs per loop (mean ± std. dev. of 7 runs, 1000 loops each)\n",
      "1.37 ms ± 31.1 µs per loop (mean ± std. dev. of 7 runs, 1000 loops each)\n",
      "1.69 ms ± 40.7 µs per loop (mean ± std. dev. of 7 runs, 1000 loops each)\n",
      "2.03 ms ± 107 µs per loop (mean ± std. dev. of 7 runs, 100 loops each)\n",
      "2.45 ms ± 116 µs per loop (mean ± std. dev. of 7 runs, 100 loops each)\n",
      "3.49 ms ± 148 µs per loop (mean ± std. dev. of 7 runs, 100 loops each)\n",
      "3.75 ms ± 97.9 µs per loop (mean ± std. dev. of 7 runs, 100 loops each)\n",
      "4.22 ms ± 94.2 µs per loop (mean ± std. dev. of 7 runs, 100 loops each)\n",
      "5.8 ms ± 313 µs per loop (mean ± std. dev. of 7 runs, 100 loops each)\n",
      "6.49 ms ± 147 µs per loop (mean ± std. dev. of 7 runs, 100 loops each)\n",
      "7.36 ms ± 305 µs per loop (mean ± std. dev. of 7 runs, 100 loops each)\n",
      "9.62 ms ± 1.02 ms per loop (mean ± std. dev. of 7 runs, 100 loops each)\n",
      "8.99 ms ± 326 µs per loop (mean ± std. dev. of 7 runs, 100 loops each)\n",
      "10.2 ms ± 1.3 ms per loop (mean ± std. dev. of 7 runs, 100 loops each)\n",
      "10.6 ms ± 645 µs per loop (mean ± std. dev. of 7 runs, 100 loops each)\n",
      "13.1 ms ± 1.86 ms per loop (mean ± std. dev. of 7 runs, 100 loops each)\n",
      "14.9 ms ± 1.62 ms per loop (mean ± std. dev. of 7 runs, 100 loops each)\n",
      "15.2 ms ± 1.31 ms per loop (mean ± std. dev. of 7 runs, 100 loops each)\n",
      "16 ms ± 1.36 ms per loop (mean ± std. dev. of 7 runs, 100 loops each)\n",
      "15.7 ms ± 126 µs per loop (mean ± std. dev. of 7 runs, 100 loops each)\n",
      "17.1 ms ± 443 µs per loop (mean ± std. dev. of 7 runs, 100 loops each)\n",
      "19 ms ± 306 µs per loop (mean ± std. dev. of 7 runs, 100 loops each)\n",
      "20.9 ms ± 1.53 ms per loop (mean ± std. dev. of 7 runs, 10 loops each)\n",
      "21.4 ms ± 729 µs per loop (mean ± std. dev. of 7 runs, 10 loops each)\n",
      "22.4 ms ± 656 µs per loop (mean ± std. dev. of 7 runs, 10 loops each)\n",
      "24 ms ± 416 µs per loop (mean ± std. dev. of 7 runs, 10 loops each)\n",
      "25.5 ms ± 338 µs per loop (mean ± std. dev. of 7 runs, 10 loops each)\n",
      "27.1 ms ± 347 µs per loop (mean ± std. dev. of 7 runs, 10 loops each)\n",
      "28.5 ms ± 356 µs per loop (mean ± std. dev. of 7 runs, 10 loops each)\n",
      "30.3 ms ± 333 µs per loop (mean ± std. dev. of 7 runs, 10 loops each)\n",
      "32.8 ms ± 318 µs per loop (mean ± std. dev. of 7 runs, 10 loops each)\n",
      "34.3 ms ± 553 µs per loop (mean ± std. dev. of 7 runs, 10 loops each)\n",
      "36.6 ms ± 567 µs per loop (mean ± std. dev. of 7 runs, 10 loops each)\n",
      "38.6 ms ± 578 µs per loop (mean ± std. dev. of 7 runs, 10 loops each)\n",
      "41.4 ms ± 179 µs per loop (mean ± std. dev. of 7 runs, 10 loops each)\n",
      "42.5 ms ± 367 µs per loop (mean ± std. dev. of 7 runs, 10 loops each)\n",
      "45.4 ms ± 978 µs per loop (mean ± std. dev. of 7 runs, 10 loops each)\n",
      "46.9 ms ± 1.85 ms per loop (mean ± std. dev. of 7 runs, 10 loops each)\n",
      "49.6 ms ± 1.38 ms per loop (mean ± std. dev. of 7 runs, 10 loops each)\n",
      "65.5 ms ± 6.54 ms per loop (mean ± std. dev. of 7 runs, 10 loops each)\n",
      "55.2 ms ± 2.38 ms per loop (mean ± std. dev. of 7 runs, 10 loops each)\n",
      "75.2 ms ± 7.24 ms per loop (mean ± std. dev. of 7 runs, 10 loops each)\n",
      "57 ms ± 309 µs per loop (mean ± std. dev. of 7 runs, 10 loops each)\n",
      "59.8 ms ± 183 µs per loop (mean ± std. dev. of 7 runs, 10 loops each)\n",
      "62.2 ms ± 291 µs per loop (mean ± std. dev. of 7 runs, 10 loops each)\n",
      "65.2 ms ± 493 µs per loop (mean ± std. dev. of 7 runs, 10 loops each)\n",
      "72.1 ms ± 3.63 ms per loop (mean ± std. dev. of 7 runs, 10 loops each)\n",
      "73.3 ms ± 973 µs per loop (mean ± std. dev. of 7 runs, 10 loops each)\n",
      "100 ms ± 13.1 ms per loop (mean ± std. dev. of 7 runs, 10 loops each)\n",
      "79.8 ms ± 4.68 ms per loop (mean ± std. dev. of 7 runs, 10 loops each)\n",
      "97.1 ms ± 12.6 ms per loop (mean ± std. dev. of 7 runs, 10 loops each)\n",
      "88.4 ms ± 1.24 ms per loop (mean ± std. dev. of 7 runs, 10 loops each)\n",
      "100 ms ± 13.3 ms per loop (mean ± std. dev. of 7 runs, 10 loops each)\n",
      "90.3 ms ± 7.07 ms per loop (mean ± std. dev. of 7 runs, 10 loops each)\n",
      "99.7 ms ± 12 ms per loop (mean ± std. dev. of 7 runs, 10 loops each)\n",
      "111 ms ± 16.7 ms per loop (mean ± std. dev. of 7 runs, 10 loops each)\n",
      "95.3 ms ± 592 µs per loop (mean ± std. dev. of 7 runs, 10 loops each)\n",
      "100 ms ± 3.4 ms per loop (mean ± std. dev. of 7 runs, 10 loops each)\n",
      "103 ms ± 683 µs per loop (mean ± std. dev. of 7 runs, 10 loops each)\n",
      "106 ms ± 673 µs per loop (mean ± std. dev. of 7 runs, 10 loops each)\n",
      "109 ms ± 432 µs per loop (mean ± std. dev. of 7 runs, 10 loops each)\n",
      "113 ms ± 431 µs per loop (mean ± std. dev. of 7 runs, 10 loops each)\n",
      "116 ms ± 779 µs per loop (mean ± std. dev. of 7 runs, 10 loops each)\n",
      "120 ms ± 840 µs per loop (mean ± std. dev. of 7 runs, 10 loops each)\n",
      "123 ms ± 476 µs per loop (mean ± std. dev. of 7 runs, 10 loops each)\n",
      "126 ms ± 785 µs per loop (mean ± std. dev. of 7 runs, 10 loops each)\n",
      "130 ms ± 280 µs per loop (mean ± std. dev. of 7 runs, 10 loops each)\n",
      "134 ms ± 567 µs per loop (mean ± std. dev. of 7 runs, 10 loops each)\n",
      "138 ms ± 921 µs per loop (mean ± std. dev. of 7 runs, 10 loops each)\n",
      "140 ms ± 525 µs per loop (mean ± std. dev. of 7 runs, 10 loops each)\n",
      "144 ms ± 520 µs per loop (mean ± std. dev. of 7 runs, 10 loops each)\n",
      "148 ms ± 616 µs per loop (mean ± std. dev. of 7 runs, 10 loops each)\n",
      "156 ms ± 6.22 ms per loop (mean ± std. dev. of 7 runs, 10 loops each)\n",
      "157 ms ± 1.11 ms per loop (mean ± std. dev. of 7 runs, 10 loops each)\n",
      "160 ms ± 348 µs per loop (mean ± std. dev. of 7 runs, 10 loops each)\n",
      "180 ms ± 14.8 ms per loop (mean ± std. dev. of 7 runs, 10 loops each)\n",
      "168 ms ± 637 µs per loop (mean ± std. dev. of 7 runs, 10 loops each)\n",
      "172 ms ± 833 µs per loop (mean ± std. dev. of 7 runs, 10 loops each)\n",
      "177 ms ± 1.63 ms per loop (mean ± std. dev. of 7 runs, 10 loops each)\n",
      "183 ms ± 4.43 ms per loop (mean ± std. dev. of 7 runs, 10 loops each)\n",
      "185 ms ± 623 µs per loop (mean ± std. dev. of 7 runs, 10 loops each)\n",
      "190 ms ± 971 µs per loop (mean ± std. dev. of 7 runs, 10 loops each)\n",
      "194 ms ± 1.68 ms per loop (mean ± std. dev. of 7 runs, 10 loops each)\n",
      "198 ms ± 587 µs per loop (mean ± std. dev. of 7 runs, 10 loops each)\n",
      "205 ms ± 5.55 ms per loop (mean ± std. dev. of 7 runs, 1 loop each)\n",
      "209 ms ± 6.21 ms per loop (mean ± std. dev. of 7 runs, 1 loop each)\n",
      "212 ms ± 4.79 ms per loop (mean ± std. dev. of 7 runs, 1 loop each)\n",
      "219 ms ± 6.18 ms per loop (mean ± std. dev. of 7 runs, 1 loop each)\n",
      "222 ms ± 3.72 ms per loop (mean ± std. dev. of 7 runs, 1 loop each)\n",
      "226 ms ± 4.36 ms per loop (mean ± std. dev. of 7 runs, 1 loop each)\n",
      "232 ms ± 3.39 ms per loop (mean ± std. dev. of 7 runs, 1 loop each)\n",
      "235 ms ± 2.83 ms per loop (mean ± std. dev. of 7 runs, 1 loop each)\n",
      "243 ms ± 5.24 ms per loop (mean ± std. dev. of 7 runs, 1 loop each)\n"
     ]
    }
   ],
   "source": [
    "j= []\n",
    "for i in range(10, 1000, 10):\n",
    "    x= np.random.randint(size= (i, i), high= 10, low= 1)\n",
    "    temp= %timeit -o convolve(x, fltr3)\n",
    "    j.append(temp.average)"
   ]
  },
  {
   "cell_type": "code",
   "execution_count": 166,
   "metadata": {},
   "outputs": [
    {
     "data": {
      "text/plain": [
       "[<matplotlib.lines.Line2D at 0x264040e8a90>]"
      ]
     },
     "execution_count": 166,
     "metadata": {},
     "output_type": "execute_result"
    },
    {
     "data": {
      "image/png": "[encoded data removed]",
      "text/plain": [
       "<Figure size 432x288 with 1 Axes>"
      ]
     },
     "metadata": {},
     "output_type": "display_data"
    }
   ],
   "source": [
    "import matplotlib.pyplot as plt\n",
    "\n",
    "y= np.arange(10, 1000, 10)\n",
    "\n",
    "plt.plot(y.tolist(), j, 'bo')\n",
    "plt.plot(y.tolist(), np.sqrt(j))"
   ]
  },
  {
   "cell_type": "markdown",
   "metadata": {},
   "source": [
    "Therefore, convolutional operation is O(n^2)."
   ]
  }
 ],
 "metadata": {
  "kernelspec": {
   "display_name": "Python 3",
   "language": "python",
   "name": "python3"
  },
  "language_info": {
   "codemirror_mode": {
    "name": "ipython",
    "version": 3
   },
   "file_extension": ".py",
   "mimetype": "text/x-python",
   "name": "python",
   "nbconvert_exporter": "python",
   "pygments_lexer": "ipython3",
   "version": "3.6.5"
  }
 },
 "nbformat": 4,
 "nbformat_minor": 2
}
